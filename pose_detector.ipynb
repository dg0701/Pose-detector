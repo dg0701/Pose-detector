{
 "cells": [
  {
   "cell_type": "code",
   "execution_count": null,
   "id": "59358a26",
   "metadata": {},
   "outputs": [],
   "source": [
    "import cv2\n",
    "import mediapipe as mp\n",
    "import math\n",
    "import matplotlib.pyplot as plt"
   ]
  },
  {
   "cell_type": "code",
   "execution_count": null,
   "id": "cd3e89e0",
   "metadata": {},
   "outputs": [
    {
     "name": "stdout",
     "output_type": "stream",
     "text": [
      "Left leg angle: 176.8\n",
      "Right leg angle: 178.2\n",
      "Hip below shoulder: True\n",
      "🧍‍♂️ Person is Standing\n"
     ]
    }
   ],
   "source": [
    "mp_pose = mp.solutions.pose\n",
    "pose = mp_pose.Pose()\n",
    "\n",
    "def get_angle(a, b, c):\n",
    "    angle = math.degrees(\n",
    "        math.atan2(c[1] - b[1], c[0] - b[0]) - math.atan2(a[1] - b[1], a[0] - b[0])\n",
    "    )\n",
    "    angle = abs(angle)\n",
    "    if angle > 180:\n",
    "        angle = 360 - angle\n",
    "    return angle\n",
    "\n",
    "frame = cv2.imread(\"person_img.jpg\")\n",
    "if frame is None:\n",
    "    print(\"Image not found.\")\n",
    "    exit()\n",
    "\n",
    "img = cv2.cvtColor(frame, cv2.COLOR_BGR2RGB)\n",
    "results = pose.process(img)\n",
    "\n",
    "if results.pose_landmarks:\n",
    "    landmarks = results.pose_landmarks.landmark\n",
    "\n",
    "    def get_point(landmark):\n",
    "        return [landmark.x, landmark.y]\n",
    "\n",
    "    left_hip = get_point(landmarks[mp_pose.PoseLandmark.LEFT_HIP.value])\n",
    "    left_knee = get_point(landmarks[mp_pose.PoseLandmark.LEFT_KNEE.value])\n",
    "    left_ankle = get_point(landmarks[mp_pose.PoseLandmark.LEFT_ANKLE.value])\n",
    "    left_shoulder = get_point(landmarks[mp_pose.PoseLandmark.LEFT_SHOULDER.value])\n",
    "\n",
    "    right_hip = get_point(landmarks[mp_pose.PoseLandmark.RIGHT_HIP.value])\n",
    "    right_knee = get_point(landmarks[mp_pose.PoseLandmark.RIGHT_KNEE.value])\n",
    "    right_ankle = get_point(landmarks[mp_pose.PoseLandmark.RIGHT_ANKLE.value])\n",
    "    right_shoulder = get_point(landmarks[mp_pose.PoseLandmark.RIGHT_SHOULDER.value])\n",
    "\n",
    "    left_leg_angle = get_angle(left_hip, left_knee, left_ankle)\n",
    "    right_leg_angle = get_angle(right_hip, right_knee, right_ankle)\n",
    "\n",
    "    is_hip_lower = left_hip[1] > left_shoulder[1] and right_hip[1] > right_shoulder[1]\n",
    "\n",
    "    print(f\"Left leg angle: {left_leg_angle:.1f}\")\n",
    "    print(f\"Right leg angle: {right_leg_angle:.1f}\")\n",
    "    print(f\"Hip below shoulder: {is_hip_lower}\")\n",
    "\n",
    "    if (left_leg_angle < 120 or right_leg_angle < 120) and is_hip_lower:\n",
    "        print(\"🪑 Person is Sitting\")\n",
    "    else:\n",
    "        print(\"🧍‍♂️ Person is Standing\")\n",
    "else:\n",
    "    print(\"No pose landmarks detected.\")\n",
    "\n",
    "\n",
    "plt.imshow(img)\n",
    "plt.axis('off')\n",
    "plt.show()"
   ]
  }
 ],
 "metadata": {
  "kernelspec": {
   "display_name": "Python 3",
   "language": "python",
   "name": "python3"
  },
  "language_info": {
   "codemirror_mode": {
    "name": "ipython",
    "version": 3
   },
   "file_extension": ".py",
   "mimetype": "text/x-python",
   "name": "python",
   "nbconvert_exporter": "python",
   "pygments_lexer": "ipython3",
   "version": "3.12.5"
  }
 },
 "nbformat": 4,
 "nbformat_minor": 5
}
